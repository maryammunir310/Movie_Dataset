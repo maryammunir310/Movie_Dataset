{
 "cells": [
  {
   "cell_type": "code",
   "execution_count": 95,
   "id": "34f9590d-f71f-48b7-99ab-2363d6a4ac54",
   "metadata": {},
   "outputs": [],
   "source": [
    "import pandas as pd"
   ]
  },
  {
   "cell_type": "code",
   "execution_count": 96,
   "id": "a1ae8ec5-612f-4327-9aa0-74b8e52d4e83",
   "metadata": {},
   "outputs": [],
   "source": [
    "df=pd.read_csv(\"movies.csv\")"
   ]
  },
  {
   "cell_type": "code",
   "execution_count": 97,
   "id": "6e609e9b-f820-4752-9cca-4fd1d56dcf30",
   "metadata": {},
   "outputs": [
    {
     "data": {
      "text/html": [
       "<div>\n",
       "<style scoped>\n",
       "    .dataframe tbody tr th:only-of-type {\n",
       "        vertical-align: middle;\n",
       "    }\n",
       "\n",
       "    .dataframe tbody tr th {\n",
       "        vertical-align: top;\n",
       "    }\n",
       "\n",
       "    .dataframe thead th {\n",
       "        text-align: right;\n",
       "    }\n",
       "</style>\n",
       "<table border=\"1\" class=\"dataframe\">\n",
       "  <thead>\n",
       "    <tr style=\"text-align: right;\">\n",
       "      <th></th>\n",
       "      <th>MOVIES</th>\n",
       "      <th>YEAR</th>\n",
       "      <th>GENRE</th>\n",
       "      <th>RATING</th>\n",
       "      <th>ONE-LINE</th>\n",
       "      <th>STARS</th>\n",
       "      <th>VOTES</th>\n",
       "      <th>RunTime</th>\n",
       "      <th>Gross</th>\n",
       "    </tr>\n",
       "  </thead>\n",
       "  <tbody>\n",
       "    <tr>\n",
       "      <th>0</th>\n",
       "      <td>Blood Red Sky</td>\n",
       "      <td>(2021)</td>\n",
       "      <td>\\nAction, Horror, Thriller</td>\n",
       "      <td>6.1</td>\n",
       "      <td>\\nA woman with a mysterious illness is forced ...</td>\n",
       "      <td>\\n    Director:\\nPeter Thorwarth\\n| \\n    Star...</td>\n",
       "      <td>21,062</td>\n",
       "      <td>121.0</td>\n",
       "      <td>NaN</td>\n",
       "    </tr>\n",
       "    <tr>\n",
       "      <th>1</th>\n",
       "      <td>Masters of the Universe: Revelation</td>\n",
       "      <td>(2021– )</td>\n",
       "      <td>\\nAnimation, Action, Adventure</td>\n",
       "      <td>5.0</td>\n",
       "      <td>\\nThe war for Eternia begins again in what may...</td>\n",
       "      <td>\\n            \\n    Stars:\\nChris Wood, \\nSara...</td>\n",
       "      <td>17,870</td>\n",
       "      <td>25.0</td>\n",
       "      <td>NaN</td>\n",
       "    </tr>\n",
       "    <tr>\n",
       "      <th>2</th>\n",
       "      <td>The Walking Dead</td>\n",
       "      <td>(2010–2022)</td>\n",
       "      <td>\\nDrama, Horror, Thriller</td>\n",
       "      <td>8.2</td>\n",
       "      <td>\\nSheriff Deputy Rick Grimes wakes up from a c...</td>\n",
       "      <td>\\n            \\n    Stars:\\nAndrew Lincoln, \\n...</td>\n",
       "      <td>885,805</td>\n",
       "      <td>44.0</td>\n",
       "      <td>NaN</td>\n",
       "    </tr>\n",
       "    <tr>\n",
       "      <th>3</th>\n",
       "      <td>Rick and Morty</td>\n",
       "      <td>(2013– )</td>\n",
       "      <td>\\nAnimation, Adventure, Comedy</td>\n",
       "      <td>9.2</td>\n",
       "      <td>\\nAn animated series that follows the exploits...</td>\n",
       "      <td>\\n            \\n    Stars:\\nJustin Roiland, \\n...</td>\n",
       "      <td>414,849</td>\n",
       "      <td>23.0</td>\n",
       "      <td>NaN</td>\n",
       "    </tr>\n",
       "    <tr>\n",
       "      <th>4</th>\n",
       "      <td>Army of Thieves</td>\n",
       "      <td>(2021)</td>\n",
       "      <td>\\nAction, Crime, Horror</td>\n",
       "      <td>NaN</td>\n",
       "      <td>\\nA prequel, set before the events of Army of ...</td>\n",
       "      <td>\\n    Director:\\nMatthias Schweighöfer\\n| \\n  ...</td>\n",
       "      <td>NaN</td>\n",
       "      <td>NaN</td>\n",
       "      <td>NaN</td>\n",
       "    </tr>\n",
       "    <tr>\n",
       "      <th>...</th>\n",
       "      <td>...</td>\n",
       "      <td>...</td>\n",
       "      <td>...</td>\n",
       "      <td>...</td>\n",
       "      <td>...</td>\n",
       "      <td>...</td>\n",
       "      <td>...</td>\n",
       "      <td>...</td>\n",
       "      <td>...</td>\n",
       "    </tr>\n",
       "    <tr>\n",
       "      <th>9994</th>\n",
       "      <td>The Imperfects</td>\n",
       "      <td>(2021– )</td>\n",
       "      <td>\\nAdventure, Drama, Fantasy</td>\n",
       "      <td>NaN</td>\n",
       "      <td>\\nAdd a Plot\\n</td>\n",
       "      <td>\\n            \\n    Stars:\\nMorgan Taylor Camp...</td>\n",
       "      <td>NaN</td>\n",
       "      <td>NaN</td>\n",
       "      <td>NaN</td>\n",
       "    </tr>\n",
       "    <tr>\n",
       "      <th>9995</th>\n",
       "      <td>Arcane</td>\n",
       "      <td>(2021– )</td>\n",
       "      <td>\\nAnimation, Action, Adventure</td>\n",
       "      <td>NaN</td>\n",
       "      <td>\\nAdd a Plot\\n</td>\n",
       "      <td>\\n</td>\n",
       "      <td>NaN</td>\n",
       "      <td>NaN</td>\n",
       "      <td>NaN</td>\n",
       "    </tr>\n",
       "    <tr>\n",
       "      <th>9996</th>\n",
       "      <td>Heart of Invictus</td>\n",
       "      <td>(2022– )</td>\n",
       "      <td>\\nDocumentary, Sport</td>\n",
       "      <td>NaN</td>\n",
       "      <td>\\nAdd a Plot\\n</td>\n",
       "      <td>\\n    Director:\\nOrlando von Einsiedel\\n| \\n  ...</td>\n",
       "      <td>NaN</td>\n",
       "      <td>NaN</td>\n",
       "      <td>NaN</td>\n",
       "    </tr>\n",
       "    <tr>\n",
       "      <th>9997</th>\n",
       "      <td>The Imperfects</td>\n",
       "      <td>(2021– )</td>\n",
       "      <td>\\nAdventure, Drama, Fantasy</td>\n",
       "      <td>NaN</td>\n",
       "      <td>\\nAdd a Plot\\n</td>\n",
       "      <td>\\n    Director:\\nJovanka Vuckovic\\n| \\n    Sta...</td>\n",
       "      <td>NaN</td>\n",
       "      <td>NaN</td>\n",
       "      <td>NaN</td>\n",
       "    </tr>\n",
       "    <tr>\n",
       "      <th>9998</th>\n",
       "      <td>The Imperfects</td>\n",
       "      <td>(2021– )</td>\n",
       "      <td>\\nAdventure, Drama, Fantasy</td>\n",
       "      <td>NaN</td>\n",
       "      <td>\\nAdd a Plot\\n</td>\n",
       "      <td>\\n    Director:\\nJovanka Vuckovic\\n| \\n    Sta...</td>\n",
       "      <td>NaN</td>\n",
       "      <td>NaN</td>\n",
       "      <td>NaN</td>\n",
       "    </tr>\n",
       "  </tbody>\n",
       "</table>\n",
       "<p>9999 rows × 9 columns</p>\n",
       "</div>"
      ],
      "text/plain": [
       "                                   MOVIES         YEAR  \\\n",
       "0                           Blood Red Sky       (2021)   \n",
       "1     Masters of the Universe: Revelation     (2021– )   \n",
       "2                        The Walking Dead  (2010–2022)   \n",
       "3                          Rick and Morty     (2013– )   \n",
       "4                         Army of Thieves       (2021)   \n",
       "...                                   ...          ...   \n",
       "9994                       The Imperfects     (2021– )   \n",
       "9995                               Arcane     (2021– )   \n",
       "9996                    Heart of Invictus     (2022– )   \n",
       "9997                       The Imperfects     (2021– )   \n",
       "9998                       The Imperfects     (2021– )   \n",
       "\n",
       "                                           GENRE  RATING  \\\n",
       "0         \\nAction, Horror, Thriller                 6.1   \n",
       "1     \\nAnimation, Action, Adventure                 5.0   \n",
       "2          \\nDrama, Horror, Thriller                 8.2   \n",
       "3     \\nAnimation, Adventure, Comedy                 9.2   \n",
       "4            \\nAction, Crime, Horror                 NaN   \n",
       "...                                          ...     ...   \n",
       "9994     \\nAdventure, Drama, Fantasy                 NaN   \n",
       "9995  \\nAnimation, Action, Adventure                 NaN   \n",
       "9996            \\nDocumentary, Sport                 NaN   \n",
       "9997     \\nAdventure, Drama, Fantasy                 NaN   \n",
       "9998     \\nAdventure, Drama, Fantasy                 NaN   \n",
       "\n",
       "                                               ONE-LINE  \\\n",
       "0     \\nA woman with a mysterious illness is forced ...   \n",
       "1     \\nThe war for Eternia begins again in what may...   \n",
       "2     \\nSheriff Deputy Rick Grimes wakes up from a c...   \n",
       "3     \\nAn animated series that follows the exploits...   \n",
       "4     \\nA prequel, set before the events of Army of ...   \n",
       "...                                                 ...   \n",
       "9994                                     \\nAdd a Plot\\n   \n",
       "9995                                     \\nAdd a Plot\\n   \n",
       "9996                                     \\nAdd a Plot\\n   \n",
       "9997                                     \\nAdd a Plot\\n   \n",
       "9998                                     \\nAdd a Plot\\n   \n",
       "\n",
       "                                                  STARS    VOTES  RunTime  \\\n",
       "0     \\n    Director:\\nPeter Thorwarth\\n| \\n    Star...   21,062    121.0   \n",
       "1     \\n            \\n    Stars:\\nChris Wood, \\nSara...   17,870     25.0   \n",
       "2     \\n            \\n    Stars:\\nAndrew Lincoln, \\n...  885,805     44.0   \n",
       "3     \\n            \\n    Stars:\\nJustin Roiland, \\n...  414,849     23.0   \n",
       "4     \\n    Director:\\nMatthias Schweighöfer\\n| \\n  ...      NaN      NaN   \n",
       "...                                                 ...      ...      ...   \n",
       "9994  \\n            \\n    Stars:\\nMorgan Taylor Camp...      NaN      NaN   \n",
       "9995                                                 \\n      NaN      NaN   \n",
       "9996  \\n    Director:\\nOrlando von Einsiedel\\n| \\n  ...      NaN      NaN   \n",
       "9997  \\n    Director:\\nJovanka Vuckovic\\n| \\n    Sta...      NaN      NaN   \n",
       "9998  \\n    Director:\\nJovanka Vuckovic\\n| \\n    Sta...      NaN      NaN   \n",
       "\n",
       "     Gross  \n",
       "0      NaN  \n",
       "1      NaN  \n",
       "2      NaN  \n",
       "3      NaN  \n",
       "4      NaN  \n",
       "...    ...  \n",
       "9994   NaN  \n",
       "9995   NaN  \n",
       "9996   NaN  \n",
       "9997   NaN  \n",
       "9998   NaN  \n",
       "\n",
       "[9999 rows x 9 columns]"
      ]
     },
     "execution_count": 97,
     "metadata": {},
     "output_type": "execute_result"
    }
   ],
   "source": [
    "df"
   ]
  },
  {
   "cell_type": "code",
   "execution_count": 98,
   "id": "93851d21-cf2f-4877-8f69-616a056a6ee3",
   "metadata": {},
   "outputs": [
    {
     "data": {
      "text/plain": [
       "(9999, 9)"
      ]
     },
     "execution_count": 98,
     "metadata": {},
     "output_type": "execute_result"
    }
   ],
   "source": [
    "df.shape\n",
    "\n"
   ]
  },
  {
   "cell_type": "code",
   "execution_count": 99,
   "id": "e1eaf600-1eef-40f5-aea9-9aa1f729f27e",
   "metadata": {},
   "outputs": [
    {
     "data": {
      "text/html": [
       "<div>\n",
       "<style scoped>\n",
       "    .dataframe tbody tr th:only-of-type {\n",
       "        vertical-align: middle;\n",
       "    }\n",
       "\n",
       "    .dataframe tbody tr th {\n",
       "        vertical-align: top;\n",
       "    }\n",
       "\n",
       "    .dataframe thead th {\n",
       "        text-align: right;\n",
       "    }\n",
       "</style>\n",
       "<table border=\"1\" class=\"dataframe\">\n",
       "  <thead>\n",
       "    <tr style=\"text-align: right;\">\n",
       "      <th></th>\n",
       "      <th>MOVIES</th>\n",
       "      <th>YEAR</th>\n",
       "      <th>GENRE</th>\n",
       "      <th>RATING</th>\n",
       "      <th>ONE-LINE</th>\n",
       "      <th>STARS</th>\n",
       "      <th>VOTES</th>\n",
       "      <th>RunTime</th>\n",
       "      <th>Gross</th>\n",
       "    </tr>\n",
       "  </thead>\n",
       "  <tbody>\n",
       "    <tr>\n",
       "      <th>0</th>\n",
       "      <td>Blood Red Sky</td>\n",
       "      <td>(2021)</td>\n",
       "      <td>\\nAction, Horror, Thriller</td>\n",
       "      <td>6.1</td>\n",
       "      <td>\\nA woman with a mysterious illness is forced ...</td>\n",
       "      <td>\\n    Director:\\nPeter Thorwarth\\n| \\n    Star...</td>\n",
       "      <td>21,062</td>\n",
       "      <td>121.0</td>\n",
       "      <td>NaN</td>\n",
       "    </tr>\n",
       "    <tr>\n",
       "      <th>1</th>\n",
       "      <td>Masters of the Universe: Revelation</td>\n",
       "      <td>(2021– )</td>\n",
       "      <td>\\nAnimation, Action, Adventure</td>\n",
       "      <td>5.0</td>\n",
       "      <td>\\nThe war for Eternia begins again in what may...</td>\n",
       "      <td>\\n            \\n    Stars:\\nChris Wood, \\nSara...</td>\n",
       "      <td>17,870</td>\n",
       "      <td>25.0</td>\n",
       "      <td>NaN</td>\n",
       "    </tr>\n",
       "    <tr>\n",
       "      <th>2</th>\n",
       "      <td>The Walking Dead</td>\n",
       "      <td>(2010–2022)</td>\n",
       "      <td>\\nDrama, Horror, Thriller</td>\n",
       "      <td>8.2</td>\n",
       "      <td>\\nSheriff Deputy Rick Grimes wakes up from a c...</td>\n",
       "      <td>\\n            \\n    Stars:\\nAndrew Lincoln, \\n...</td>\n",
       "      <td>885,805</td>\n",
       "      <td>44.0</td>\n",
       "      <td>NaN</td>\n",
       "    </tr>\n",
       "    <tr>\n",
       "      <th>3</th>\n",
       "      <td>Rick and Morty</td>\n",
       "      <td>(2013– )</td>\n",
       "      <td>\\nAnimation, Adventure, Comedy</td>\n",
       "      <td>9.2</td>\n",
       "      <td>\\nAn animated series that follows the exploits...</td>\n",
       "      <td>\\n            \\n    Stars:\\nJustin Roiland, \\n...</td>\n",
       "      <td>414,849</td>\n",
       "      <td>23.0</td>\n",
       "      <td>NaN</td>\n",
       "    </tr>\n",
       "    <tr>\n",
       "      <th>4</th>\n",
       "      <td>Army of Thieves</td>\n",
       "      <td>(2021)</td>\n",
       "      <td>\\nAction, Crime, Horror</td>\n",
       "      <td>NaN</td>\n",
       "      <td>\\nA prequel, set before the events of Army of ...</td>\n",
       "      <td>\\n    Director:\\nMatthias Schweighöfer\\n| \\n  ...</td>\n",
       "      <td>NaN</td>\n",
       "      <td>NaN</td>\n",
       "      <td>NaN</td>\n",
       "    </tr>\n",
       "    <tr>\n",
       "      <th>5</th>\n",
       "      <td>Outer Banks</td>\n",
       "      <td>(2020– )</td>\n",
       "      <td>\\nAction, Crime, Drama</td>\n",
       "      <td>7.6</td>\n",
       "      <td>\\nA group of teenagers from the wrong side of ...</td>\n",
       "      <td>\\n            \\n    Stars:\\nChase Stokes, \\nMa...</td>\n",
       "      <td>25,858</td>\n",
       "      <td>50.0</td>\n",
       "      <td>NaN</td>\n",
       "    </tr>\n",
       "    <tr>\n",
       "      <th>6</th>\n",
       "      <td>The Last Letter from Your Lover</td>\n",
       "      <td>(2021)</td>\n",
       "      <td>\\nDrama, Romance</td>\n",
       "      <td>6.8</td>\n",
       "      <td>\\nA pair of interwoven stories set in the past...</td>\n",
       "      <td>\\n    Director:\\nAugustine Frizzell\\n| \\n    S...</td>\n",
       "      <td>5,283</td>\n",
       "      <td>110.0</td>\n",
       "      <td>NaN</td>\n",
       "    </tr>\n",
       "    <tr>\n",
       "      <th>7</th>\n",
       "      <td>Dexter</td>\n",
       "      <td>(2006–2013)</td>\n",
       "      <td>\\nCrime, Drama, Mystery</td>\n",
       "      <td>8.6</td>\n",
       "      <td>\\nBy day, mild-mannered Dexter is a blood-spat...</td>\n",
       "      <td>\\n            \\n    Stars:\\nMichael C. Hall, \\...</td>\n",
       "      <td>665,387</td>\n",
       "      <td>53.0</td>\n",
       "      <td>NaN</td>\n",
       "    </tr>\n",
       "    <tr>\n",
       "      <th>8</th>\n",
       "      <td>Never Have I Ever</td>\n",
       "      <td>(2020– )</td>\n",
       "      <td>\\nComedy</td>\n",
       "      <td>7.9</td>\n",
       "      <td>\\nThe complicated life of a modern-day first g...</td>\n",
       "      <td>\\n            \\n    Stars:\\nMaitreyi Ramakrish...</td>\n",
       "      <td>34,530</td>\n",
       "      <td>30.0</td>\n",
       "      <td>NaN</td>\n",
       "    </tr>\n",
       "    <tr>\n",
       "      <th>9</th>\n",
       "      <td>Virgin River</td>\n",
       "      <td>(2019– )</td>\n",
       "      <td>\\nDrama, Romance</td>\n",
       "      <td>7.4</td>\n",
       "      <td>\\nSeeking a fresh start, nurse practitioner Me...</td>\n",
       "      <td>\\n            \\n    Stars:\\nAlexandra Breckenr...</td>\n",
       "      <td>27,279</td>\n",
       "      <td>44.0</td>\n",
       "      <td>NaN</td>\n",
       "    </tr>\n",
       "  </tbody>\n",
       "</table>\n",
       "</div>"
      ],
      "text/plain": [
       "                                MOVIES         YEAR  \\\n",
       "0                        Blood Red Sky       (2021)   \n",
       "1  Masters of the Universe: Revelation     (2021– )   \n",
       "2                     The Walking Dead  (2010–2022)   \n",
       "3                       Rick and Morty     (2013– )   \n",
       "4                      Army of Thieves       (2021)   \n",
       "5                          Outer Banks     (2020– )   \n",
       "6      The Last Letter from Your Lover       (2021)   \n",
       "7                               Dexter  (2006–2013)   \n",
       "8                    Never Have I Ever     (2020– )   \n",
       "9                         Virgin River     (2019– )   \n",
       "\n",
       "                                        GENRE  RATING  \\\n",
       "0      \\nAction, Horror, Thriller                 6.1   \n",
       "1  \\nAnimation, Action, Adventure                 5.0   \n",
       "2       \\nDrama, Horror, Thriller                 8.2   \n",
       "3  \\nAnimation, Adventure, Comedy                 9.2   \n",
       "4         \\nAction, Crime, Horror                 NaN   \n",
       "5          \\nAction, Crime, Drama                 7.6   \n",
       "6                \\nDrama, Romance                 6.8   \n",
       "7         \\nCrime, Drama, Mystery                 8.6   \n",
       "8                        \\nComedy                 7.9   \n",
       "9                \\nDrama, Romance                 7.4   \n",
       "\n",
       "                                            ONE-LINE  \\\n",
       "0  \\nA woman with a mysterious illness is forced ...   \n",
       "1  \\nThe war for Eternia begins again in what may...   \n",
       "2  \\nSheriff Deputy Rick Grimes wakes up from a c...   \n",
       "3  \\nAn animated series that follows the exploits...   \n",
       "4  \\nA prequel, set before the events of Army of ...   \n",
       "5  \\nA group of teenagers from the wrong side of ...   \n",
       "6  \\nA pair of interwoven stories set in the past...   \n",
       "7  \\nBy day, mild-mannered Dexter is a blood-spat...   \n",
       "8  \\nThe complicated life of a modern-day first g...   \n",
       "9  \\nSeeking a fresh start, nurse practitioner Me...   \n",
       "\n",
       "                                               STARS    VOTES  RunTime Gross  \n",
       "0  \\n    Director:\\nPeter Thorwarth\\n| \\n    Star...   21,062    121.0   NaN  \n",
       "1  \\n            \\n    Stars:\\nChris Wood, \\nSara...   17,870     25.0   NaN  \n",
       "2  \\n            \\n    Stars:\\nAndrew Lincoln, \\n...  885,805     44.0   NaN  \n",
       "3  \\n            \\n    Stars:\\nJustin Roiland, \\n...  414,849     23.0   NaN  \n",
       "4  \\n    Director:\\nMatthias Schweighöfer\\n| \\n  ...      NaN      NaN   NaN  \n",
       "5  \\n            \\n    Stars:\\nChase Stokes, \\nMa...   25,858     50.0   NaN  \n",
       "6  \\n    Director:\\nAugustine Frizzell\\n| \\n    S...    5,283    110.0   NaN  \n",
       "7  \\n            \\n    Stars:\\nMichael C. Hall, \\...  665,387     53.0   NaN  \n",
       "8  \\n            \\n    Stars:\\nMaitreyi Ramakrish...   34,530     30.0   NaN  \n",
       "9  \\n            \\n    Stars:\\nAlexandra Breckenr...   27,279     44.0   NaN  "
      ]
     },
     "execution_count": 99,
     "metadata": {},
     "output_type": "execute_result"
    }
   ],
   "source": [
    "df.head(10)"
   ]
  },
  {
   "cell_type": "code",
   "execution_count": 100,
   "id": "7ec212e6-1f27-4ec7-ba65-528fd9200372",
   "metadata": {},
   "outputs": [
    {
     "name": "stdout",
     "output_type": "stream",
     "text": [
      "<class 'pandas.core.frame.DataFrame'>\n",
      "RangeIndex: 9999 entries, 0 to 9998\n",
      "Data columns (total 9 columns):\n",
      " #   Column    Non-Null Count  Dtype  \n",
      "---  ------    --------------  -----  \n",
      " 0   MOVIES    9999 non-null   object \n",
      " 1   YEAR      9355 non-null   object \n",
      " 2   GENRE     9919 non-null   object \n",
      " 3   RATING    8179 non-null   float64\n",
      " 4   ONE-LINE  9999 non-null   object \n",
      " 5   STARS     9999 non-null   object \n",
      " 6   VOTES     8179 non-null   object \n",
      " 7   RunTime   7041 non-null   float64\n",
      " 8   Gross     460 non-null    object \n",
      "dtypes: float64(2), object(7)\n",
      "memory usage: 703.2+ KB\n"
     ]
    }
   ],
   "source": [
    "df.info()"
   ]
  },
  {
   "cell_type": "code",
   "execution_count": 101,
   "id": "3c99891a-8287-4f94-99a8-e1382f14444c",
   "metadata": {},
   "outputs": [
    {
     "data": {
      "text/plain": [
       "MOVIES         0\n",
       "YEAR         644\n",
       "GENRE         80\n",
       "RATING      1820\n",
       "ONE-LINE       0\n",
       "STARS          0\n",
       "VOTES       1820\n",
       "RunTime     2958\n",
       "Gross       9539\n",
       "dtype: int64"
      ]
     },
     "execution_count": 101,
     "metadata": {},
     "output_type": "execute_result"
    }
   ],
   "source": [
    "df.isnull().sum()"
   ]
  },
  {
   "cell_type": "code",
   "execution_count": 102,
   "id": "a870cde5-d4c2-4387-b239-7640aa370027",
   "metadata": {},
   "outputs": [
    {
     "data": {
      "text/plain": [
       "0       False\n",
       "1       False\n",
       "2       False\n",
       "3       False\n",
       "4       False\n",
       "        ...  \n",
       "9994     True\n",
       "9995    False\n",
       "9996    False\n",
       "9997    False\n",
       "9998    False\n",
       "Length: 9999, dtype: bool"
      ]
     },
     "execution_count": 102,
     "metadata": {},
     "output_type": "execute_result"
    }
   ],
   "source": [
    "df.duplicated()"
   ]
  },
  {
   "cell_type": "code",
   "execution_count": 103,
   "id": "b4d00df4-185f-45c5-b0a9-a0d2a09e2d53",
   "metadata": {},
   "outputs": [],
   "source": [
    "df.drop_duplicates(inplace=True)"
   ]
  },
  {
   "cell_type": "code",
   "execution_count": 104,
   "id": "3bad5a0d-4ffa-40c5-a60c-f07d40a4127a",
   "metadata": {},
   "outputs": [
    {
     "data": {
      "text/plain": [
       "(9568, 9)"
      ]
     },
     "execution_count": 104,
     "metadata": {},
     "output_type": "execute_result"
    }
   ],
   "source": [
    "df.head(10)\n",
    "df.shape"
   ]
  },
  {
   "cell_type": "code",
   "execution_count": 105,
   "id": "1792eb9c-1d2f-4196-9c10-b949b8ce9b38",
   "metadata": {},
   "outputs": [],
   "source": [
    "df[\"VOTES\"]=pd.to_numeric(df[\"VOTES\"].astype(str).str.replace(\",\",\"\"),errors=\"coerce\")"
   ]
  },
  {
   "cell_type": "code",
   "execution_count": 106,
   "id": "a691fbd5-5ccf-4718-b1d7-16993c899c1e",
   "metadata": {},
   "outputs": [],
   "source": [
    "df[\"YEAR\"]=df[\"YEAR\"].str.extract(\"(\\d{4})\")"
   ]
  },
  {
   "cell_type": "code",
   "execution_count": 107,
   "id": "7301de46-b815-419a-a77c-173973ea40e3",
   "metadata": {},
   "outputs": [],
   "source": [
    "df[\"YEAR\"]=pd.to_numeric(df[\"YEAR\"],errors=\"coerce\")"
   ]
  },
  {
   "cell_type": "code",
   "execution_count": 108,
   "id": "0b51f844-d889-43e0-8b8d-dfe37a0b1491",
   "metadata": {},
   "outputs": [
    {
     "name": "stdout",
     "output_type": "stream",
     "text": [
      "<class 'pandas.core.frame.DataFrame'>\n",
      "Index: 9568 entries, 0 to 9998\n",
      "Data columns (total 9 columns):\n",
      " #   Column    Non-Null Count  Dtype  \n",
      "---  ------    --------------  -----  \n",
      " 0   MOVIES    9568 non-null   object \n",
      " 1   YEAR      8933 non-null   float64\n",
      " 2   GENRE     9490 non-null   object \n",
      " 3   RATING    8168 non-null   float64\n",
      " 4   ONE-LINE  9568 non-null   object \n",
      " 5   STARS     9568 non-null   object \n",
      " 6   VOTES     8168 non-null   float64\n",
      " 7   RunTime   7008 non-null   float64\n",
      " 8   Gross     460 non-null    object \n",
      "dtypes: float64(4), object(5)\n",
      "memory usage: 747.5+ KB\n"
     ]
    }
   ],
   "source": [
    "df.info()"
   ]
  },
  {
   "cell_type": "code",
   "execution_count": 109,
   "id": "79ef58eb-9cfc-4c1f-9725-611d499a60a8",
   "metadata": {},
   "outputs": [],
   "source": [
    "df[\"RATING\"]=df[\"RATING\"].fillna(df[\"RATING\"].mean())"
   ]
  },
  {
   "cell_type": "code",
   "execution_count": 110,
   "id": "36934d14-6b49-4084-9b41-5b27e8d8d5e8",
   "metadata": {},
   "outputs": [],
   "source": [
    "df[\"VOTES\"]=df[\"VOTES\"].fillna(df[\"VOTES\"].mean())"
   ]
  },
  {
   "cell_type": "code",
   "execution_count": 111,
   "id": "eeeb7212-17ab-45f8-a76a-3f0ca4169356",
   "metadata": {},
   "outputs": [],
   "source": [
    "df[\"RunTime\"]=df[\"RunTime\"].fillna(df[\"RunTime\"].mean())"
   ]
  },
  {
   "cell_type": "code",
   "execution_count": 112,
   "id": "82eb5048-7db3-4008-a65b-257c8badc6a6",
   "metadata": {},
   "outputs": [],
   "source": [
    "# df[\"YEAR\"]=pd.to_numeric(df[\"YEAR\"],errors=\"coerce\")"
   ]
  },
  {
   "cell_type": "code",
   "execution_count": 113,
   "id": "93c410fe-b80f-4341-a2c2-5522a7a8da39",
   "metadata": {},
   "outputs": [],
   "source": [
    "max_year=df[\"YEAR\"].max()\n",
    "df[\"YEAR\"]=df[\"YEAR\"].fillna(max_year)"
   ]
  },
  {
   "cell_type": "code",
   "execution_count": 114,
   "id": "8f8a5abf-c892-49b8-9bd4-1d0610b417c5",
   "metadata": {},
   "outputs": [],
   "source": [
    "most_common_movies=df[\"GENRE\"].mode()[0]"
   ]
  },
  {
   "cell_type": "code",
   "execution_count": 115,
   "id": "c605ce3d-5e10-4bfc-9ad4-58ec9bd9d3d7",
   "metadata": {},
   "outputs": [],
   "source": [
    "df[\"GENRE\"]=df[\"GENRE\"].fillna(most_common_movies)"
   ]
  },
  {
   "cell_type": "code",
   "execution_count": 116,
   "id": "e9999701-219e-4f76-8e31-5cbc70d29da7",
   "metadata": {},
   "outputs": [
    {
     "data": {
      "text/plain": [
       "MOVIES         0\n",
       "YEAR           0\n",
       "GENRE          0\n",
       "RATING         0\n",
       "ONE-LINE       0\n",
       "STARS          0\n",
       "VOTES          0\n",
       "RunTime        0\n",
       "Gross       9108\n",
       "dtype: int64"
      ]
     },
     "execution_count": 116,
     "metadata": {},
     "output_type": "execute_result"
    }
   ],
   "source": [
    "df.isnull().sum()"
   ]
  },
  {
   "cell_type": "code",
   "execution_count": 117,
   "id": "515683c8-a85d-47b2-8a67-99ad2a9b077f",
   "metadata": {},
   "outputs": [
    {
     "data": {
      "text/plain": [
       "9108"
      ]
     },
     "execution_count": 117,
     "metadata": {},
     "output_type": "execute_result"
    }
   ],
   "source": [
    "df[\"Gross\"].isnull().sum()"
   ]
  },
  {
   "cell_type": "code",
   "execution_count": 118,
   "id": "ff48f458-bc57-4cfd-a0ee-c1d4f3d94e43",
   "metadata": {},
   "outputs": [],
   "source": [
    "df=df.drop([\"Gross\",\"ONE-LINE\",\"STARS\"],axis=1, errors='ignore')"
   ]
  },
  {
   "cell_type": "code",
   "execution_count": 119,
   "id": "b0895e62-0268-4225-85dc-67c50ed13fd4",
   "metadata": {},
   "outputs": [
    {
     "name": "stdout",
     "output_type": "stream",
     "text": [
      "<class 'pandas.core.frame.DataFrame'>\n",
      "Index: 9568 entries, 0 to 9998\n",
      "Data columns (total 6 columns):\n",
      " #   Column   Non-Null Count  Dtype  \n",
      "---  ------   --------------  -----  \n",
      " 0   MOVIES   9568 non-null   object \n",
      " 1   YEAR     9568 non-null   float64\n",
      " 2   GENRE    9568 non-null   object \n",
      " 3   RATING   9568 non-null   float64\n",
      " 4   VOTES    9568 non-null   float64\n",
      " 5   RunTime  9568 non-null   float64\n",
      "dtypes: float64(4), object(2)\n",
      "memory usage: 523.2+ KB\n"
     ]
    }
   ],
   "source": [
    "df.info()"
   ]
  },
  {
   "cell_type": "code",
   "execution_count": 120,
   "id": "21204e8c-7c7e-4d33-b787-9490de8b0673",
   "metadata": {},
   "outputs": [
    {
     "name": "stdout",
     "output_type": "stream",
     "text": [
      "MOVIES     0\n",
      "YEAR       0\n",
      "GENRE      0\n",
      "RATING     0\n",
      "VOTES      0\n",
      "RunTime    0\n",
      "dtype: int64\n"
     ]
    }
   ],
   "source": [
    "print(df.isnull().sum())"
   ]
  },
  {
   "cell_type": "code",
   "execution_count": 123,
   "id": "d6095b70-9f50-434e-8d06-486bcd657eb9",
   "metadata": {},
   "outputs": [
    {
     "name": "stdout",
     "output_type": "stream",
     "text": [
      "                                MOVIES          VOTES     1%_VOTES\n",
      "0                        Blood Red Sky   21062.000000   210.620000\n",
      "1  Masters of the Universe: Revelation   17870.000000   178.700000\n",
      "2                     The Walking Dead  885805.000000  8858.050000\n",
      "3                       Rick and Morty  414849.000000  4148.490000\n",
      "4                      Army of Thieves   15144.414422   151.444144\n",
      "5                          Outer Banks   25858.000000   258.580000\n",
      "6      The Last Letter from Your Lover    5283.000000    52.830000\n",
      "7                               Dexter  665387.000000  6653.870000\n",
      "8                    Never Have I Ever   34530.000000   345.300000\n",
      "9                         Virgin River   27279.000000   272.790000\n"
     ]
    }
   ],
   "source": [
    "df[\"1%_VOTES\"] = df[\"VOTES\"] * 0.01\n",
    "print(df[[\"MOVIES\", \"VOTES\", \"1%_VOTES\"]].head(10))"
   ]
  },
  {
   "cell_type": "code",
   "execution_count": 132,
   "id": "23452b02-6ea8-4c90-beaf-8c52527e2f48",
   "metadata": {},
   "outputs": [
    {
     "name": "stdout",
     "output_type": "stream",
     "text": [
      "TOP 5 HIGHEST RATED MOVIES:\n",
      "                           MOVIES  RATING    YEAR\n",
      "7640              BoJack Horseman     9.9  2014.0\n",
      "8510   Avatar: The Last Airbender     9.9  2005.0\n",
      "8509   Avatar: The Last Airbender     9.8  2005.0\n",
      "9892                       Dexter     9.8  2006.0\n",
      "7159   Avatar: The Last Airbender     9.7  2005.0\n",
      "\n",
      "TOP 5 MOST POPULAR GENRES:\n",
      "GENRE\n",
      "Comedy                                      915\n",
      "Animation, Action, Adventure                663\n",
      "Drama                                       546\n",
      "Documentary                                 495\n",
      "Crime, Drama, Mystery                       328\n",
      "Name: count, dtype: int64\n",
      "\n",
      "MOVIES BY YEAR:\n",
      "YEAR\n",
      "2020.0    1676\n",
      "2019.0    1334\n",
      "2018.0    1074\n",
      "2021.0     987\n",
      "2017.0     835\n",
      "Name: count, dtype: int64\n"
     ]
    }
   ],
   "source": [
    "df['GENRE'] = df['GENRE'].str.replace('\\n', '')\n",
    "# 1. Find the BEST movies\n",
    "print(\"TOP 5 HIGHEST RATED MOVIES:\")\n",
    "top_movies = df.nlargest(5, 'RATING')[['MOVIES', 'RATING', 'YEAR']]\n",
    "print(top_movies)\n",
    "\n",
    "# 2. Most popular genres\n",
    "print(\"\\nTOP 5 MOST POPULAR GENRES:\")\n",
    "print(df['GENRE'].value_counts().head(5))\n",
    "\n",
    "# 3. Movies by year\n",
    "print(\"\\nMOVIES BY YEAR:\")\n",
    "print(df['YEAR'].value_counts().head(5))"
   ]
  },
  {
   "cell_type": "code",
   "execution_count": null,
   "id": "fb60aeaa-1e44-4cf0-b1e2-9a3f4140ce49",
   "metadata": {},
   "outputs": [],
   "source": []
  }
 ],
 "metadata": {
  "kernelspec": {
   "display_name": "Python 3 (ipykernel)",
   "language": "python",
   "name": "python3"
  },
  "language_info": {
   "codemirror_mode": {
    "name": "ipython",
    "version": 3
   },
   "file_extension": ".py",
   "mimetype": "text/x-python",
   "name": "python",
   "nbconvert_exporter": "python",
   "pygments_lexer": "ipython3",
   "version": "3.10.0"
  }
 },
 "nbformat": 4,
 "nbformat_minor": 5
}
